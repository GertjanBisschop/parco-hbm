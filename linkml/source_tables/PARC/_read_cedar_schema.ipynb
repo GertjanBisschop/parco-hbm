{
 "cells": [
  {
   "cell_type": "code",
   "execution_count": 27,
   "metadata": {},
   "outputs": [],
   "source": [
    "import json\n",
    "import jsonschema"
   ]
  },
  {
   "cell_type": "code",
   "execution_count": 28,
   "metadata": {},
   "outputs": [],
   "source": [
    "with open('hbm_dcat_cedar_schema.json') as f:\n",
    "    hbm_study = json.load(f)"
   ]
  },
  {
   "cell_type": "code",
   "execution_count": 46,
   "metadata": {},
   "outputs": [
    {
     "name": "stdout",
     "output_type": "stream",
     "text": [
      "dict_keys(['@context', '@id', '@type', 'links', 'LongName', 'ShortName', 'Description', 'Publisher', 'Language', 'Funder', 'StartDate', 'EndDate', 'ImplementationLevel', 'LongNameRT', 'LanguageRT', 'DescriptionRT', 'PublisherRT', 'Budget RT', 'StartDateRT', 'EndDateRT', 'ImplementationLevelRT', 'LinksRT', 'Identifier', 'FunderRT', 'Budget', 'IDDataCollection', 'CatalogOption', 'Status'])\n",
      "@context None None {'links': {'enum': ['https://schema.metadatacenter.org/properties/67d4a37f-c683-479c-87d4-01977c83e9b9']}, 'LongName': {'enum': ['https://schema.metadatacenter.org/properties/f47ca8c0-9a66-4481-8feb-2e915be7b6d9']}, 'ShortName': {'enum': ['https://schema.metadatacenter.org/properties/b1761ac7-35d2-4750-aa06-352555740663']}, 'Description': {'enum': ['https://schema.metadatacenter.org/properties/30794684-8c33-4a59-8029-c923e666ab46']}, 'Publisher': {'enum': ['https://schema.metadatacenter.org/properties/dde25f90-519d-4352-b7f8-06d4184db228']}, 'Language': {'enum': ['https://schema.metadatacenter.org/properties/38b64547-2667-4852-9c36-ff679fd8f565']}, 'Funder': {'enum': ['https://schema.metadatacenter.org/properties/27c1959e-ae42-4bba-8c3c-b168f54c4a4b']}, 'StartDate': {'enum': ['https://schema.metadatacenter.org/properties/121467fe-c511-49fc-ba22-28bad7fd76db']}, 'EndDate': {'enum': ['https://schema.metadatacenter.org/properties/be574208-f67e-4955-9376-592a012a3dca']}, 'ImplementationLevel': {'enum': ['https://schema.metadatacenter.org/properties/6ad2d241-5b24-40e4-82cb-dbe9e62693a5']}, 'Identifier': {'enum': ['https://schema.metadatacenter.org/properties/2f505ef1-ff6d-46f3-8755-0e97d79eafb4']}, 'Budget': {'enum': ['https://schema.metadatacenter.org/properties/f4adbbc6-9fa4-4361-9249-13d07d18e85c']}, 'IDDataCollection': {'enum': ['https://schema.metadatacenter.org/properties/f92dd9da-35ed-4157-a4e5-7401d5b905fd']}, 'CatalogOption': {'enum': ['https://schema.metadatacenter.org/properties/dabdc309-3b79-4886-8f42-68d332bde0a7']}, 'Status': {'enum': ['https://schema.metadatacenter.org/properties/ff9d320c-d9a7-4ba1-b5bc-aa987f9ef6c1']}}\n",
      "@id None None None\n",
      "@type None None None\n",
      "links None None None\n",
      "LongName https://schema.metadatacenter.org/core/TemplateField textfield {'@type': {'oneOf': [{'type': 'string', 'format': 'uri'}, {'type': 'array', 'minItems': 1, 'items': {'type': 'string', 'format': 'uri'}, 'uniqueItems': True}]}, '@value': {'type': ['string', 'null']}, 'rdfs:label': {'type': ['string', 'null']}}\n",
      "ShortName https://schema.metadatacenter.org/core/TemplateField textfield {'@type': {'oneOf': [{'type': 'string', 'format': 'uri'}, {'type': 'array', 'minItems': 1, 'items': {'type': 'string', 'format': 'uri'}, 'uniqueItems': True}]}, '@value': {'type': ['string', 'null']}, 'rdfs:label': {'type': ['string', 'null']}}\n",
      "Description https://schema.metadatacenter.org/core/TemplateField textfield {'@type': {'oneOf': [{'type': 'string', 'format': 'uri'}, {'type': 'array', 'minItems': 1, 'items': {'type': 'string', 'format': 'uri'}, 'uniqueItems': True}]}, '@value': {'type': ['string', 'null']}, 'rdfs:label': {'type': ['string', 'null']}}\n",
      "Publisher None None None\n",
      "Language None None None\n",
      "Funder None None None\n",
      "StartDate https://schema.metadatacenter.org/core/TemplateField temporal {'@type': {'oneOf': [{'type': 'string', 'format': 'uri'}, {'type': 'array', 'minItems': 1, 'items': {'type': 'string', 'format': 'uri'}, 'uniqueItems': True}]}, '@value': {'type': ['string', 'null']}, 'rdfs:label': {'type': ['string', 'null']}}\n",
      "EndDate https://schema.metadatacenter.org/core/TemplateField temporal {'@type': {'oneOf': [{'type': 'string', 'format': 'uri'}, {'type': 'array', 'minItems': 1, 'items': {'type': 'string', 'format': 'uri'}, 'uniqueItems': True}]}, '@value': {'type': ['string', 'null']}, 'rdfs:label': {'type': ['string', 'null']}}\n",
      "ImplementationLevel https://schema.metadatacenter.org/core/TemplateField textfield {'@type': {'oneOf': [{'type': 'string', 'format': 'uri'}, {'type': 'array', 'minItems': 1, 'items': {'type': 'string', 'format': 'uri'}, 'uniqueItems': True}]}, 'rdfs:label': {'type': ['string', 'null']}, '@id': {'type': 'string', 'format': 'uri'}}\n",
      "LongNameRT https://schema.metadatacenter.org/core/StaticTemplateField richtext None\n",
      "LanguageRT https://schema.metadatacenter.org/core/StaticTemplateField richtext None\n",
      "DescriptionRT https://schema.metadatacenter.org/core/StaticTemplateField richtext None\n",
      "PublisherRT https://schema.metadatacenter.org/core/StaticTemplateField richtext None\n",
      "Budget RT https://schema.metadatacenter.org/core/StaticTemplateField richtext None\n",
      "StartDateRT https://schema.metadatacenter.org/core/StaticTemplateField richtext None\n",
      "EndDateRT https://schema.metadatacenter.org/core/StaticTemplateField richtext None\n",
      "ImplementationLevelRT https://schema.metadatacenter.org/core/StaticTemplateField richtext None\n",
      "LinksRT https://schema.metadatacenter.org/core/StaticTemplateField richtext None\n",
      "Identifier https://schema.metadatacenter.org/core/TemplateField link {'@type': {'oneOf': [{'type': 'string', 'format': 'uri'}, {'type': 'array', 'minItems': 1, 'items': {'type': 'string', 'format': 'uri'}, 'uniqueItems': True}]}, 'rdfs:label': {'type': ['string', 'null']}, '@id': {'type': 'string', 'format': 'uri'}}\n",
      "FunderRT https://schema.metadatacenter.org/core/StaticTemplateField richtext None\n",
      "Budget https://schema.metadatacenter.org/core/TemplateField numeric {'@value': {'type': ['string', 'null']}, 'rdfs:label': {'type': ['string', 'null']}, '@type': {'type': 'string', 'format': 'uri'}}\n",
      "IDDataCollection None None None\n",
      "CatalogOption https://schema.metadatacenter.org/core/TemplateField list {'@type': {'oneOf': [{'type': 'string', 'format': 'uri'}, {'type': 'array', 'minItems': 1, 'items': {'type': 'string', 'format': 'uri'}, 'uniqueItems': True}]}, '@value': {'type': ['string', 'null']}, 'rdfs:label': {'type': ['string', 'null']}}\n",
      "Status https://schema.metadatacenter.org/core/TemplateElement None {'@context': {'type': 'object', 'properties': {'StatusOther': {'enum': ['https://schema.metadatacenter.org/properties/8c314dc1-92bc-45af-8a63-02f8bb0d95c2']}, 'ActivityStatus': {'enum': ['https://schema.metadatacenter.org/properties/7ce4f032-33b6-46d4-b7ae-f3fa4b21a321']}}, 'additionalProperties': False, 'required': ['ActivityStatus', 'StatusOther']}, '@id': {'type': 'string', 'format': 'uri'}, '@type': {'oneOf': [{'type': 'string', 'format': 'uri'}, {'type': 'array', 'minItems': 1, 'items': {'type': 'string', 'format': 'uri'}, 'uniqueItems': True}]}, 'StatusOther': {'@type': 'https://schema.metadatacenter.org/core/TemplateField', '@context': {'xsd': 'http://www.w3.org/2001/XMLSchema#', 'pav': 'http://purl.org/pav/', 'bibo': 'http://purl.org/ontology/bibo/', 'oslc': 'http://open-services.net/ns/core#', 'schema': 'http://schema.org/', 'skos': 'http://www.w3.org/2004/02/skos/core#', 'schema:name': {'@type': 'xsd:string'}, 'schema:description': {'@type': 'xsd:string'}, 'skos:prefLabel': {'@type': 'xsd:string'}, 'skos:altLabel': {'@type': 'xsd:string'}, 'pav:createdOn': {'@type': 'xsd:dateTime'}, 'pav:createdBy': {'@type': '@id'}, 'pav:lastUpdatedOn': {'@type': 'xsd:dateTime'}, 'oslc:modifiedBy': {'@type': '@id'}}, 'type': 'object', 'title': 'StatusOther field schema', 'description': 'StatusOther field schema generated by the CEDAR Template Editor 2.6.44', '_ui': {'inputType': 'textfield'}, '_valueConstraints': {'requiredValue': False}, 'properties': {'@type': {'oneOf': [{'type': 'string', 'format': 'uri'}, {'type': 'array', 'minItems': 1, 'items': {'type': 'string', 'format': 'uri'}, 'uniqueItems': True}]}, '@value': {'type': ['string', 'null']}, 'rdfs:label': {'type': ['string', 'null']}}, 'required': ['@value'], 'schema:name': 'StatusOther', 'schema:description': '', 'pav:createdOn': '2023-12-14T13:22:22-08:00', 'pav:createdBy': 'https://metadatacenter.org/users/ffbb4dc6-7829-4a3c-8708-a2e4c386997b', 'pav:lastUpdatedOn': '2023-12-14T13:22:22-08:00', 'oslc:modifiedBy': 'https://metadatacenter.org/users/ffbb4dc6-7829-4a3c-8708-a2e4c386997b', 'schema:schemaVersion': '1.6.0', 'additionalProperties': False, 'skos:prefLabel': \"Please, provide a suitable description in case you selected 'other'\", '@id': 'https://repo.metadatacenter.org/template-fields/0f4eee01-dd39-4334-9c71-844181a76779', '$schema': 'http://json-schema.org/draft-04/schema#'}, 'ActivityStatus': {'@type': 'https://schema.metadatacenter.org/core/TemplateField', '@context': {'xsd': 'http://www.w3.org/2001/XMLSchema#', 'pav': 'http://purl.org/pav/', 'bibo': 'http://purl.org/ontology/bibo/', 'oslc': 'http://open-services.net/ns/core#', 'schema': 'http://schema.org/', 'skos': 'http://www.w3.org/2004/02/skos/core#', 'schema:name': {'@type': 'xsd:string'}, 'schema:description': {'@type': 'xsd:string'}, 'skos:prefLabel': {'@type': 'xsd:string'}, 'skos:altLabel': {'@type': 'xsd:string'}, 'pav:createdOn': {'@type': 'xsd:dateTime'}, 'pav:createdBy': {'@type': '@id'}, 'pav:lastUpdatedOn': {'@type': 'xsd:dateTime'}, 'oslc:modifiedBy': {'@type': '@id'}}, 'type': 'object', 'title': 'ActivityStatus field schema', 'description': 'ActivityStatus field schema generated by the CEDAR Template Editor 2.6.44', '_ui': {'inputType': 'textfield'}, '_valueConstraints': {'requiredValue': False, 'ontologies': [], 'valueSets': [], 'classes': [], 'branches': [{'source': 'GoFair M4M (GFF-M4M)', 'acronym': 'GFF-M4M', 'uri': 'http://purl.org/m4m/1057', 'name': 'status', 'maxDepth': 0}], 'multipleChoice': False, 'actions': [{'to': 0, 'action': 'move', 'termUri': 'http://purl.org/m4m/1060', 'type': 'OntologyClass', 'sourceUri': 'http://purl.org/m4m/1057', 'source': 'GFF-M4M'}, {'to': 1, 'action': 'move', 'termUri': 'http://purl.org/m4m/1059', 'type': 'OntologyClass', 'sourceUri': 'http://purl.org/m4m/1057', 'source': 'GFF-M4M'}]}, 'properties': {'@type': {'oneOf': [{'type': 'string', 'format': 'uri'}, {'type': 'array', 'minItems': 1, 'items': {'type': 'string', 'format': 'uri'}, 'uniqueItems': True}]}, 'rdfs:label': {'type': ['string', 'null']}, '@id': {'type': 'string', 'format': 'uri'}}, 'schema:name': 'ActivityStatus', 'schema:description': '', 'pav:createdOn': '2023-12-14T13:22:22-08:00', 'pav:createdBy': 'https://metadatacenter.org/users/ffbb4dc6-7829-4a3c-8708-a2e4c386997b', 'pav:lastUpdatedOn': '2023-12-14T13:22:22-08:00', 'oslc:modifiedBy': 'https://metadatacenter.org/users/ffbb4dc6-7829-4a3c-8708-a2e4c386997b', 'schema:schemaVersion': '1.6.0', 'additionalProperties': False, 'skos:prefLabel': 'Activity status', '@id': 'https://repo.metadatacenter.org/template-fields/c039c265-b2c9-4236-928d-525d767265f8', '$schema': 'http://json-schema.org/draft-04/schema#'}}\n"
     ]
    }
   ],
   "source": [
    "#hbm_study[\"properties\"][\"Catalog information\"][\"_ui\"]\n",
    "print(hbm_study[\"properties\"][\"Catalog information\"][\"properties\"].keys())\n",
    "#hbm_study[\"properties\"][\"Catalog information\"][\"properties\"][\"DescriptionRT\"]\n",
    "hbm_study[\"properties\"][\"Catalog information\"][\"properties\"][\"@context\"]\n",
    "\n",
    "for e, el in hbm_study[\"properties\"][\"Catalog information\"][\"properties\"].items():\n",
    "    #el = hbm_study[\"properties\"][\"Catalog information\"][\"properties\"][e]\n",
    "    print(e, el.get(\"@type\"), el.get(\"_ui\").get(\"inputType\") if el.get(\"_ui\") else None, el.get(\"properties\"))\n",
    "#  '@type' '_ui''inputType' 'properties'"
   ]
  },
  {
   "cell_type": "code",
   "execution_count": 56,
   "metadata": {},
   "outputs": [
    {
     "data": {
      "text/plain": [
       "{'type': 'object',\n",
       " '@id': 'https://repo.metadatacenter.org/template-fields/0613a93a-00f6-4af4-9f30-5b0e3b605779',\n",
       " '@type': 'https://schema.metadatacenter.org/core/TemplateField',\n",
       " '@context': {'xsd': 'http://www.w3.org/2001/XMLSchema#',\n",
       "  'pav': 'http://purl.org/pav/',\n",
       "  'bibo': 'http://purl.org/ontology/bibo/',\n",
       "  'oslc': 'http://open-services.net/ns/core#',\n",
       "  'schema': 'http://schema.org/',\n",
       "  'skos': 'http://www.w3.org/2004/02/skos/core#',\n",
       "  'schema:name': {'@type': 'xsd:string'},\n",
       "  'schema:description': {'@type': 'xsd:string'},\n",
       "  'skos:prefLabel': {'@type': 'xsd:string'},\n",
       "  'skos:altLabel': {'@type': 'xsd:string'},\n",
       "  'pav:createdOn': {'@type': 'xsd:dateTime'},\n",
       "  'pav:createdBy': {'@type': '@id'},\n",
       "  'pav:lastUpdatedOn': {'@type': 'xsd:dateTime'},\n",
       "  'oslc:modifiedBy': {'@type': '@id'}},\n",
       " 'title': 'Publisher field schema',\n",
       " 'description': 'Publisher field schema generated by the CEDAR Template Editor 2.6.44',\n",
       " '_ui': {'inputType': 'link'},\n",
       " '_valueConstraints': {'requiredValue': True},\n",
       " 'properties': {'@type': {'oneOf': [{'type': 'string', 'format': 'uri'},\n",
       "    {'type': 'array',\n",
       "     'minItems': 1,\n",
       "     'items': {'type': 'string', 'format': 'uri'},\n",
       "     'uniqueItems': True}]},\n",
       "  'rdfs:label': {'type': ['string', 'null']},\n",
       "  '@id': {'type': 'string', 'format': 'uri'}},\n",
       " 'additionalProperties': False,\n",
       " 'pav:createdOn': '2024-01-02T03:10:20-08:00',\n",
       " 'pav:createdBy': 'https://metadatacenter.org/users/ffbb4dc6-7829-4a3c-8708-a2e4c386997b',\n",
       " 'pav:lastUpdatedOn': '2024-01-02T03:10:20-08:00',\n",
       " 'oslc:modifiedBy': 'https://metadatacenter.org/users/ffbb4dc6-7829-4a3c-8708-a2e4c386997b',\n",
       " 'schema:schemaVersion': '1.6.0',\n",
       " 'schema:name': 'Publisher',\n",
       " 'schema:description': '',\n",
       " 'skos:prefLabel': 'Publisher',\n",
       " '$schema': 'http://json-schema.org/draft-04/schema#'}"
      ]
     },
     "execution_count": 56,
     "metadata": {},
     "output_type": "execute_result"
    }
   ],
   "source": [
    "hbm_study[\"properties\"][\"Catalog information\"][\"properties\"][\"Publisher\"][\"items\"]"
   ]
  },
  {
   "cell_type": "code",
   "execution_count": 35,
   "metadata": {},
   "outputs": [
    {
     "data": {
      "text/plain": [
       "{'@type': 'https://schema.metadatacenter.org/core/TemplateField',\n",
       " '@context': {'xsd': 'http://www.w3.org/2001/XMLSchema#',\n",
       "  'pav': 'http://purl.org/pav/',\n",
       "  'bibo': 'http://purl.org/ontology/bibo/',\n",
       "  'oslc': 'http://open-services.net/ns/core#',\n",
       "  'schema': 'http://schema.org/',\n",
       "  'skos': 'http://www.w3.org/2004/02/skos/core#',\n",
       "  'schema:name': {'@type': 'xsd:string'},\n",
       "  'schema:description': {'@type': 'xsd:string'},\n",
       "  'skos:prefLabel': {'@type': 'xsd:string'},\n",
       "  'skos:altLabel': {'@type': 'xsd:string'},\n",
       "  'pav:createdOn': {'@type': 'xsd:dateTime'},\n",
       "  'pav:createdBy': {'@type': '@id'},\n",
       "  'pav:lastUpdatedOn': {'@type': 'xsd:dateTime'},\n",
       "  'oslc:modifiedBy': {'@type': '@id'}},\n",
       " 'type': 'object',\n",
       " 'title': 'Description field schema',\n",
       " 'description': 'Description field schema generated by the CEDAR Template Editor 2.6.44',\n",
       " '_ui': {'inputType': 'textfield'},\n",
       " '_valueConstraints': {'requiredValue': True},\n",
       " 'properties': {'@type': {'oneOf': [{'type': 'string', 'format': 'uri'},\n",
       "    {'type': 'array',\n",
       "     'minItems': 1,\n",
       "     'items': {'type': 'string', 'format': 'uri'},\n",
       "     'uniqueItems': True}]},\n",
       "  '@value': {'type': ['string', 'null']},\n",
       "  'rdfs:label': {'type': ['string', 'null']}},\n",
       " 'required': ['@value'],\n",
       " 'schema:name': 'Description',\n",
       " 'schema:description': '',\n",
       " 'pav:createdOn': '2024-01-02T03:10:20-08:00',\n",
       " 'pav:createdBy': 'https://metadatacenter.org/users/ffbb4dc6-7829-4a3c-8708-a2e4c386997b',\n",
       " 'pav:lastUpdatedOn': '2024-01-02T03:10:20-08:00',\n",
       " 'oslc:modifiedBy': 'https://metadatacenter.org/users/ffbb4dc6-7829-4a3c-8708-a2e4c386997b',\n",
       " 'schema:schemaVersion': '1.6.0',\n",
       " 'additionalProperties': False,\n",
       " 'skos:prefLabel': 'Description',\n",
       " '@id': 'https://repo.metadatacenter.org/template-fields/4dbdfd1e-d3e0-44b1-9129-127e56841780',\n",
       " '$schema': 'http://json-schema.org/draft-04/schema#'}"
      ]
     },
     "execution_count": 35,
     "metadata": {},
     "output_type": "execute_result"
    }
   ],
   "source": [
    "hbm_study[\"properties\"][\"Catalog information\"][\"properties\"][\"Description\"]"
   ]
  },
  {
   "cell_type": "code",
   "execution_count": null,
   "metadata": {},
   "outputs": [],
   "source": []
  },
  {
   "cell_type": "code",
   "execution_count": null,
   "metadata": {},
   "outputs": [],
   "source": []
  }
 ],
 "metadata": {
  "kernelspec": {
   "display_name": "Python 3",
   "language": "python",
   "name": "python3"
  },
  "language_info": {
   "codemirror_mode": {
    "name": "ipython",
    "version": 3
   },
   "file_extension": ".py",
   "mimetype": "text/x-python",
   "name": "python",
   "nbconvert_exporter": "python",
   "pygments_lexer": "ipython3",
   "version": "3.11.0"
  }
 },
 "nbformat": 4,
 "nbformat_minor": 2
}
