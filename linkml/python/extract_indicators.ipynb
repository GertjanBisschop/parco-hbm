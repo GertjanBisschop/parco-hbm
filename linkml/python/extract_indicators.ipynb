{
 "cells": [
  {
   "cell_type": "markdown",
   "metadata": {},
   "source": [
    "# ToDo:\n",
    "# - complete indicator_type list and get correct translation\n",
    "# - find non-biochementity indicators > change type to IndicatorType.observation + remove biochementity & links?\n",
    "# - list unit_keys & apply translation dictionary\n",
    "# - constraints\n",
    "# - review biochementity_links from effectmarkers, core <> prop, base <> core\n",
    "# - review groupings from effectmarkers, base_category, core_category\n",
    "# - extensions: mol (core), lip/crt/sg (prop)\n",
    "# - add indicators & find historical data solution for \"duplicated\" units: [\"ng/filter\", \"pg BEQ/g\", \"pmol/g globin\"]\n"
   ]
  },
  {
   "cell_type": "code",
   "execution_count": null,
   "metadata": {},
   "outputs": [],
   "source": [
    "import yaml\n",
    "import decimal\n",
    "\n",
    "import pandas as pd\n",
    "import numpy as np\n",
    "\n",
    "from peh import BioChemEntity, ContextAlias, Translation, BioChemEntityLink, BioChemEntityLinkType, BioChemIdentifier\n",
    "from peh import Indicator, IndicatorType, ObservableEntityType, QudtQuantityKind\n",
    "from peh import ObservableProperty, ObservablePropertyMetadataElement\n",
    "from peh import ValidationStatus, ValidationHistoryRecord\n",
    "\n",
    "from linkml_runtime.dumpers import json_dumper, yaml_dumper\n",
    "\n",
    "# IndicatorType: effectmarker, exposuremarker, geomarker, observation\n"
   ]
  },
  {
   "cell_type": "code",
   "execution_count": null,
   "metadata": {},
   "outputs": [],
   "source": [
    "# forYaml_sampleobsbase.csv\n",
    "df_base = pd.read_csv(\"../source_tables/indicator_input/forYaml_sampleobsbase.csv\", sep=';', encoding='mbcs')\n",
    "dl_base = df_base.replace({np.nan:None}).to_dict(orient=\"records\")\n",
    "dd_base = {e[\"sampleobsbase_key\"]:e for e in dl_base}\n",
    "base_translation_dict = {e[\"sampleobsbase_id\"]: e[\"sampleobsbase_key\"] for e in dl_base}\n",
    "\n",
    "biochementity_dict = {\n",
    "    e[\"sampleobsbase_key\"]: BioChemEntity(\n",
    "        id = e[\"sampleobsbase_key\"],\n",
    "        unique_name = e[\"sampleobsbase_key\"],\n",
    "        name = e[\"name_en\"],\n",
    "        label = e[\"label_en\"],\n",
    "        molweight_grampermol = round(decimal.Decimal(e[\"molweight_grampermol\"]), 2) if e[\"molweight_grampermol\"] else None,\n",
    "        context_aliases = [ContextAlias(context=\"HBM4EU sampleobsbase_id\", alias=e[\"sampleobsbase_id\"])],\n",
    "        translations = [\n",
    "            Translation(property_name=\"name\", language=\"nl-be\", translated_value=e[\"name_nl\"]),\n",
    "            Translation(property_name=\"label\", language=\"nl-be\", translated_value=e[\"label_nl\"]),\n",
    "        ]\n",
    "    )\n",
    "    for e in dl_base\n",
    "}"
   ]
  },
  {
   "cell_type": "code",
   "execution_count": null,
   "metadata": {},
   "outputs": [],
   "source": [
    "# forYaml_sampleobsbase_related.csv\n",
    "df_base_relations = pd.read_csv(\"../source_tables/indicator_input/forYaml_sampleobsbase_related.csv\", sep=';', encoding='mbcs')\n",
    "dl_base_relations = df_base_relations.replace({np.nan:None}).to_dict(orient=\"records\")\n",
    "dd_base_relations = {d:[br for br in dl_base_relations if br[\"sampleobsbase_id\"]==d] for d in set([r[\"sampleobsbase_id\"] for r in dl_base_relations])}\n",
    "\n",
    "def get_linktype(db_name):\n",
    "    translation_dict = {\n",
    "        \"branched version of\": BioChemEntityLinkType.branched_version_of,\n",
    "        \"parentcompound\": BioChemEntityLinkType.has_parent_compound,\n",
    "        \"parent compound\": BioChemEntityLinkType.has_parent_compound,\n",
    "        \"exact_match\": BioChemEntityLinkType.exact_match,\n",
    "        \"close_match\": BioChemEntityLinkType.close_match,\n",
    "    }\n",
    "    return translation_dict[db_name]\n",
    "\n",
    "for br in set([r[\"sampleobsbase_id\"] for r in dl_base_relations]):\n",
    "    rl = [r for r in dl_base_relations if r[\"sampleobsbase_id\"]==br]\n",
    "    biochementity_dict[base_translation_dict[br]].biochementity_links = [\n",
    "        BioChemEntityLink(biochementity_linktype=get_linktype(r[\"relation\"]), biochementity=biochementity_dict[base_translation_dict[r[\"sampleobsbase_relatedto_id\"]]].id) for r in rl\n",
    "    ]"
   ]
  },
  {
   "cell_type": "code",
   "execution_count": null,
   "metadata": {},
   "outputs": [],
   "source": [
    "# forYaml_sampleobsbase_validation.csv\n",
    "df_base_validation = pd.read_csv(\"../source_tables/indicator_input/forYaml_sampleobsbase_validation.csv\", sep=';', encoding='mbcs')\n",
    "dl_base_validation = df_base_validation.replace({np.nan:None}).to_dict(orient=\"records\")"
   ]
  },
  {
   "cell_type": "code",
   "execution_count": null,
   "metadata": {},
   "outputs": [],
   "source": [
    "# check dl_base_validation duplications (should return empty list)\n",
    "unique_keys = list(set([v[\"sampleobsbase_key\"] for v in dl_base_validation]))\n",
    "base_validation_dict = {k:[bv for bv in dl_base_validation if bv[\"sampleobsbase_key\"]==k] for k in unique_keys}\n",
    "list(set([k for k in list(base_validation_dict.keys()) if len(base_validation_dict[k]) > 1]))"
   ]
  },
  {
   "cell_type": "code",
   "execution_count": null,
   "metadata": {},
   "outputs": [],
   "source": [
    "# Check validation records without corresponding sampleobsbase records (should return empty list)\n",
    "[bv[\"sampleobsbase_key\"] for bv in dl_base_validation if bv[\"sampleobsbase_key\"] not in biochementity_dict.keys()]"
   ]
  },
  {
   "cell_type": "code",
   "execution_count": null,
   "metadata": {},
   "outputs": [],
   "source": [
    "def get_validation_status(db_name):\n",
    "    translation_dict = {\n",
    "        \"Validated\": ValidationStatus.validated,\n",
    "        \"Unvalidated\": ValidationStatus.unvalidated,\n",
    "        \"InProgress_Expert\": ValidationStatus.in_progress,\n",
    "        \"InProgress_VITOInternal\": ValidationStatus.in_progress,\n",
    "    }\n",
    "    return translation_dict[db_name]\n",
    "\n",
    "for bv in [r for r in dl_base_validation if r[\"sampleobsbase_key\"] in biochementity_dict.keys()]:\n",
    "    biochementity_dict[bv[\"sampleobsbase_key\"]].current_validation_status = get_validation_status(bv[\"validationStatus\"])\n",
    "    biochementity_dict[bv[\"sampleobsbase_key\"]].validation_history = [\n",
    "        ValidationHistoryRecord(\n",
    "            validation_status=get_validation_status(bv[\"validationStatus\"]), validation_remark=bv[\"validationReference\"],\n",
    "            validation_actor=bv[\"validationEmail\"], validation_institute=bv[\"validationInstitute\"])\n",
    "    ]\n",
    "    if bv[\"validationStatus\"] == \"Validated\" and bv[\"validationID\"] == 'inchikey_id':\n",
    "        biochementity_dict[bv[\"sampleobsbase_key\"]].biochemidentifiers = [\n",
    "            BioChemIdentifier(identifier_schema=\"INCHIKEY\", identifier_code=bv[\"inchikey_id\"], validation_history=[\n",
    "                ValidationHistoryRecord(\n",
    "                    validation_status=get_validation_status(bv[\"validationStatus\"]), validation_remark=bv[\"validationReference\"],\n",
    "                    validation_actor=bv[\"validationEmail\"], validation_institute=bv[\"validationInstitute\"])\n",
    "            ])\n",
    "        ]\n",
    "    if bv[\"validationStatus\"] == \"Validated\" and bv[\"validationID\"] == 'chebi_id':\n",
    "        biochementity_dict[bv[\"sampleobsbase_key\"]].biochemidentifiers = [\n",
    "            BioChemIdentifier(identifier_schema=\"CHEBI\", identifier_code=bv[\"chebi_id\"], validation_history=[\n",
    "                ValidationHistoryRecord(\n",
    "                    validation_status=get_validation_status(bv[\"validationStatus\"]), validation_remark=bv[\"validationReference\"],\n",
    "                    validation_actor=bv[\"validationEmail\"], validation_institute=bv[\"validationInstitute\"])\n",
    "            ])\n",
    "        ]\n"
   ]
  },
  {
   "cell_type": "code",
   "execution_count": null,
   "metadata": {},
   "outputs": [],
   "source": [
    "# get unique set of cores and full list of props from forYaml_sampleobscore_sampleobsprop.csv\n",
    "df_core_prop = pd.read_csv(\"../source_tables/indicator_input/forYaml_sampleobscore_sampleobsprop.csv\", sep=';', encoding='mbcs')\n",
    "dl_core_prop = df_core_prop.replace({np.nan:None}).to_dict(orient=\"records\")\n",
    "\n",
    "dl_core = [{k:v for k,v in [cp for cp in dl_core_prop if cp['sampleobscore_id']==i][0].items() if k in ['sampleobscore_id', 'sampleobscore_key', 'varname', 'sort', 'vartype_key', 'datatype_key', 'relatedvarnames',\n",
    "  'vartypedetail_key', 'label_en', 'name_en', 'label_nl', 'name_nl', '']} for i in set([ci[\"sampleobscore_id\"] for ci in dl_core_prop])]\n",
    "dd_core = {e[\"varname\"]:e for e in dl_core}\n",
    "core_translation_dict = {e[\"sampleobscore_id\"]: e[\"varname\"] for e in dl_core}\n",
    "\n",
    "dl_prop = [{k:v for k,v in p.items() if k in [\"sampleobsprop_id\", \"sampleobscore_key\", \"varname\", \"samplegroup_key\", \"extensions\", \"unit_key\", \"significantdecimals\", \"zeroallowed\", \"formula\"]} for p in dl_core_prop]\n",
    "dd_prop = {\"|\".join([e[\"varname\"], e[\"samplegroup_key\"], e[\"unit_key\"]]):e for e in dl_prop}\n",
    "prop_translation_dict = {e[\"sampleobsprop_id\"]: \"|\".join([e[\"varname\"], e[\"samplegroup_key\"], e[\"unit_key\"]]) for e in dl_prop}"
   ]
  },
  {
   "cell_type": "code",
   "execution_count": null,
   "metadata": {},
   "outputs": [],
   "source": [
    "indicator_dict = {\n",
    "    \"|\".join([e[\"varname\"], e[\"samplegroup_key\"]]): Indicator(\n",
    "        id = \"|\".join([e[\"varname\"], e[\"samplegroup_key\"]]),\n",
    "        unique_name = \"|\".join([e[\"varname\"], e[\"samplegroup_key\"]]),\n",
    "        name = \" concentration in \".join([e[\"varname\"], e[\"samplegroup_key\"]]),\n",
    "        label = \" concentration in \".join([e[\"varname\"], e[\"samplegroup_key\"]]),\n",
    "        indicator_type = IndicatorType.exposuremarker,\n",
    "        property = \"concentration\",\n",
    "        quantity_kind = None if e[\"unit_key\"]==\"-\" else QudtQuantityKind.MassConcentration,\n",
    "        matrix = e[\"samplegroup_key\"],\n",
    "        relevant_observable_entity_types = [ObservableEntityType.person, ObservableEntityType.sample]\n",
    "    )\n",
    "    for e in dl_prop\n",
    "    if e[\"unit_key\"] not in [\"ng/filter\", \"pg BEQ/g\", \"pmol/g globin\"]\n",
    "}\n",
    "print(len(dl_prop))\n",
    "print(len(set([\"|\".join([p[\"varname\"], p[\"samplegroup_key\"]]) for p in dl_prop])))\n",
    "print(len([p for p in dl_prop if p[\"unit_key\"] not in [\"ng/filter\", \"pg BEQ/g\", \"pmol/g globin\"]]))\n",
    "print(len(indicator_dict))"
   ]
  },
  {
   "cell_type": "code",
   "execution_count": null,
   "metadata": {},
   "outputs": [],
   "source": [
    "# get core <> base relations from forYaml_sampleobsbase_sampleobscore.csv\n",
    "df_base_core_relations = pd.read_csv(\"../source_tables/indicator_input/forYaml_sampleobsbase_sampleobscore.csv\", sep=';', encoding='mbcs')\n",
    "dl_base_core_relations = df_base_core_relations.replace({np.nan:None}).to_dict(orient=\"records\")\n",
    "dd_base_core_relations = {base_translation_dict[d]:[br for br in dl_base_core_relations if br[\"sampleobsbase_id\"]==d] for d in base_translation_dict.keys()}\n",
    "dd_core_base_relations = {core_translation_dict[c]:[br for br in dl_base_core_relations if br[\"sampleobscore_id\"]==c] for c in core_translation_dict.keys()}\n",
    "print(list(set([bcr[\"vartypedetail_key\"] for bcr in dl_base_core_relations])))\n",
    "print(list(set([bcr[\"linktype\"] for bcr in dl_base_core_relations])))"
   ]
  },
  {
   "cell_type": "code",
   "execution_count": null,
   "metadata": {},
   "outputs": [],
   "source": [
    "# create BioChemEntity objects for base groups defined as core\n",
    "dl_base_core_group_relations = [bcr for bcr in dl_base_core_relations if bcr[\"linktype\"] == \"group_contains\"]\n",
    "core_group_relation_ids = list(set([bcr[\"sampleobscore_id\"] for bcr in dl_base_core_group_relations]))\n",
    "core_group_relation_keys = [dd_core[core_translation_dict[sampleobscore_id]][\"varname\"] for sampleobscore_id in core_group_relation_ids]\n",
    "\n",
    "print(f\"{len(core_group_relation_ids)} core groups being added to biochementity_dict\")\n",
    "\n",
    "for sampleobscore_id in core_group_relation_ids:\n",
    "    core = dd_core[core_translation_dict[sampleobscore_id]]\n",
    "    linked_base_ids = [bcr[\"sampleobsbase_id\"] for bcr in dl_base_core_relations if bcr[\"sampleobscore_id\"] == sampleobscore_id and bcr[\"linktype\"] == \"group_contains\"]\n",
    "    if core[\"varname\"] in biochementity_dict.keys():\n",
    "        print(f\"{core['varname']} already exists in biochementity_dict\")\n",
    "    else:\n",
    "        biochementity_dict[core[\"varname\"]] = BioChemEntity(\n",
    "            id = core[\"varname\"],\n",
    "            unique_name = core[\"varname\"],\n",
    "            name = core[\"name_en\"],\n",
    "            label = core[\"label_en\"],\n",
    "            context_aliases = [ContextAlias(context=\"HBM4EU sampleobscore_id\", alias=core[\"sampleobscore_id\"])],\n",
    "            translations = [\n",
    "                Translation(property_name=\"name\", language=\"nl-be\", translated_value=core[\"name_nl\"]),\n",
    "                Translation(property_name=\"label\", language=\"nl-be\", translated_value=core[\"label_nl\"]),\n",
    "            ],\n",
    "            biochementity_links=[\n",
    "                BioChemEntityLink(biochementity_linktype=BioChemEntityLinkType.group_contains, biochementity=biochementity_dict[base_translation_dict[base_id]].id) for base_id in linked_base_ids\n",
    "            ]\n",
    "        )"
   ]
  },
  {
   "cell_type": "code",
   "execution_count": null,
   "metadata": {},
   "outputs": [],
   "source": [
    "# get effect marker, their grouping and BioChemEntity relation from effectmarkersandprop.csv\n",
    "df_effectmarkers = pd.read_csv(\"../source_tables/indicator_input/effectmarkersandprop.csv\", sep=';', encoding='mbcs')\n",
    "dl_effectmarkers = df_effectmarkers.replace({np.nan:None}).to_dict(orient=\"records\")\n",
    "dd_effectmarkers = {k:[em for em in dl_effectmarkers if \"|\".join([em[\"varname\"], em[\"samplegroup_key\"]])==k] for k in set([\"|\".join([emk[\"varname\"], emk[\"samplegroup_key\"]]) for emk in dl_effectmarkers])}\n",
    "print(len(set([\"|\".join([em[\"varname\"], em[\"samplegroup_key\"]]) for em in dl_effectmarkers])))\n",
    "print(len(dl_effectmarkers))"
   ]
  },
  {
   "cell_type": "code",
   "execution_count": null,
   "metadata": {},
   "outputs": [],
   "source": [
    "biochementity_keys = ['varname', 'vartype_key', 'name_en', 'linktype', 'chebi_id', 'inchikey_id']\n",
    "unique_effectmarker_biochementity_list = list(set([tuple(pv for pn,pv in em.items() if pn in biochementity_keys) for em in dl_effectmarkers]))\n",
    "print(len(unique_effectmarker_biochementity_list))\n",
    "em_biochementity_inclusion = [em for em in unique_effectmarker_biochementity_list if em[3]]\n",
    "print(len(em_biochementity_inclusion), set([em[1] for em in em_biochementity_inclusion]), set([em[3] for em in em_biochementity_inclusion]))\n",
    "em_biochementity_exclusion = [em for em in unique_effectmarker_biochementity_list if not em[3]]\n",
    "print(len(em_biochementity_exclusion), set([em[1] for em in em_biochementity_exclusion]), set([em[3] for em in em_biochementity_exclusion]))\n",
    "\n",
    "indicator_keys = ['varname', 'vartype_key', 'name_en', 'samplegroup_key', 'linktype', 'chebi_id', 'inchikey_id']\n",
    "unique_effectmarker_indicator_list = list(set([tuple(pv for pn,pv in em.items() if pn in indicator_keys) for em in dl_effectmarkers]))\n",
    "print(len(unique_effectmarker_indicator_list))\n",
    "print(len(dl_effectmarkers))"
   ]
  },
  {
   "cell_type": "code",
   "execution_count": null,
   "metadata": {},
   "outputs": [],
   "source": [
    "inchi_to_base = {v['inchikey_id']:v[\"sampleobsbase_key\"] for v in dl_base_validation if v['validationID']==\"inchikey_id\"}\n",
    "chebi_to_base = {v['chebi_id']:v[\"sampleobsbase_key\"] for v in dl_base_validation if v['validationID']==\"chebi_id\"}\n",
    "\n",
    "for indicator_key in indicator_dict.keys():\n",
    "    if indicator_key in dd_effectmarkers.keys():\n",
    "        indicator_dict[indicator_key].indicator_type = IndicatorType.effectmarker\n",
    "        for em in dd_effectmarkers[indicator_key]:\n",
    "            if em[\"linktype\"] is None:\n",
    "                if len(indicator_dict[indicator_key].biochementity_links):\n",
    "                    print(indicator_key, indicator_dict[indicator_key].biochementity_links)\n",
    "            else:\n",
    "                em_done = False\n",
    "                if em[\"chebi_id\"] and em[\"chebi_id\"] in chebi_to_base.keys():\n",
    "                    indicator_dict[indicator_key].biochementity_links = [\n",
    "                        BioChemEntityLink(biochementity_linktype=BioChemEntityLinkType.exact_match, biochementity=biochementity_dict[chebi_to_base[em[\"chebi_id\"]]].id)\n",
    "                    ]\n",
    "                elif em[\"inchikey_id\"] and em[\"inchikey_id\"] in inchi_to_base.keys():\n",
    "                    indicator_dict[indicator_key].biochementity_links = [\n",
    "                        BioChemEntityLink(biochementity_linktype=BioChemEntityLinkType.exact_match, biochementity=biochementity_dict[inchi_to_base[em[\"inchikey_id\"]]].id)\n",
    "                    ]\n",
    "    elif indicator_key.split(\"|\")[0] in core_group_relation_keys:\n",
    "        indicator_dict[indicator_key].biochementity_links = [\n",
    "            BioChemEntityLink(biochementity_linktype=BioChemEntityLinkType.exact_match, biochementity=biochementity_dict[indicator_key.split(\"|\")[0]].id)\n",
    "        ]\n",
    "    else:\n",
    "        indicator_dict[indicator_key].biochementity_links = [\n",
    "            BioChemEntityLink(biochementity_linktype=get_linktype(cbr['linktype']), biochementity=biochementity_dict[base_translation_dict[cbr['sampleobsbase_id']]].id)\n",
    "            for cbr in dd_core_base_relations[indicator_key.split(\"|\")[0]]\n",
    "        ]"
   ]
  },
  {
   "cell_type": "code",
   "execution_count": null,
   "metadata": {},
   "outputs": [],
   "source": [
    "# forYaml_sampleobscore_category.csv > add grouping_id_list in Indicator dict\n",
    "dl_core_cat = pd.read_csv(\"../source_tables/indicator_input/forYaml_sampleobscore_category.csv\", sep=';', encoding='mbcs').replace({np.nan:None}).to_dict(orient=\"records\")\n",
    "for core_cat in dl_core_cat:\n",
    "    for indicator in [i for i in indicator_dict.values() if i.unique_name.startswith(core_translation_dict[core_cat[\"sampleobscore_id\"]] + \"|\")]:\n",
    "        indicator.grouping_id_list = list(set(indicator.grouping_id_list + [core_cat['category_key']]))\n"
   ]
  },
  {
   "cell_type": "code",
   "execution_count": null,
   "metadata": {},
   "outputs": [],
   "source": [
    "# forYaml_sampleobscore_sampleobsprop.csv\n",
    "# - create ObservableProperty objects, one for each Indicator, adding: unit, etc, ...\n",
    "observable_property_dict = {\n",
    "    \"|\".join([e[\"varname\"], e[\"samplegroup_key\"]]): ObservableProperty(\n",
    "        id = \"|\".join([e[\"varname\"], e[\"samplegroup_key\"]]),\n",
    "        unique_name = \"|\".join([e[\"varname\"], e[\"samplegroup_key\"]]),\n",
    "        name = \" concentration in \".join([e[\"varname\"], e[\"samplegroup_key\"]]),\n",
    "        label = \" concentration in \".join([e[\"varname\"], e[\"samplegroup_key\"]]),\n",
    "        default_unit = None if e[\"unit_key\"]==\"-\" else e[\"unit_key\"]\n",
    "    )\n",
    "    for e in dl_prop\n",
    "    if e[\"unit_key\"] not in [\"ng/filter\", \"pg BEQ/g\", \"pmol/g globin\"]\n",
    "}"
   ]
  },
  {
   "cell_type": "code",
   "execution_count": null,
   "metadata": {},
   "outputs": [],
   "source": [
    "# forYaml_sampleobsprop_statistics.csv > add constraint to ObservableProperty value_metadata (as field & value)\n",
    "dl_prop_stat = pd.read_csv(\"../source_tables/indicator_input/forYaml_sampleobsprop_statistics.csv\", sep=';', encoding='mbcs').replace({np.nan:None}).to_dict(orient=\"records\")\n",
    "for prop_stat in dl_prop_stat:\n",
    "    if prop_stat[\"varname\"] and prop_stat[\"samplegroup_key\"] and prop_stat[\"statswhat\"] and prop_stat[\"statsvalue\"]:\n",
    "        observable_property_dict[\"|\".join([prop_stat[\"varname\"], prop_stat[\"samplegroup_key\"]])].value_metadata.append(ObservablePropertyMetadataElement(\n",
    "            field=prop_stat[\"statswhat\"],\n",
    "            value=str(prop_stat[\"statsvalue\"])\n",
    "        ))"
   ]
  },
  {
   "cell_type": "code",
   "execution_count": null,
   "metadata": {},
   "outputs": [],
   "source": [
    "yaml_dumper.dump({\"biochementities\": [v for v in biochementity_dict.values() if v]}, \"../extract/BioChemEntityList_data.yaml\")\n",
    "yaml_dumper.dump({\"indicators\": [v for v in indicator_dict.values() if v]}, \"../extract/IndicatorList_data.yaml\")\n",
    "yaml_dumper.dump({\"observable_properties\": [v for v in observable_property_dict.values() if v]}, \"../extract/ObservablePropertyList_data.yaml\")\n"
   ]
  },
  {
   "cell_type": "code",
   "execution_count": null,
   "metadata": {},
   "outputs": [],
   "source": []
  },
  {
   "cell_type": "code",
   "execution_count": null,
   "metadata": {},
   "outputs": [],
   "source": []
  }
 ],
 "metadata": {
  "kernelspec": {
   "display_name": "Python 3",
   "language": "python",
   "name": "python3"
  },
  "language_info": {
   "codemirror_mode": {
    "name": "ipython",
    "version": 3
   },
   "file_extension": ".py",
   "mimetype": "text/x-python",
   "name": "python",
   "nbconvert_exporter": "python",
   "pygments_lexer": "ipython3",
   "version": "3.11.0"
  }
 },
 "nbformat": 4,
 "nbformat_minor": 2
}
