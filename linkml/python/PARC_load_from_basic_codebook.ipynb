{
 "cells": [
  {
   "cell_type": "code",
   "execution_count": null,
   "metadata": {},
   "outputs": [],
   "source": [
    "from pathlib import Path\n",
    "\n",
    "import pandas as pd\n",
    "import numpy as np\n",
    "import yaml\n",
    "from linkml_runtime.dumpers import json_dumper, yaml_dumper\n",
    "\n",
    "import uuid\n",
    "from numpy import sort\n",
    "\n",
    "\n",
    "\n",
    "import peh"
   ]
  },
  {
   "cell_type": "code",
   "execution_count": null,
   "metadata": {},
   "outputs": [],
   "source": [
    "codebook_path = Path(\"../source_tables/PARC/BasicCodebook_v2.3.xlsx\")\n",
    "data_path = Path(\"../source_tables/PARC/ExData_BasicCodebook_v2.3.xlsx\")\n",
    "yaml_file_path = Path(\"../project_examples/PARC/parc.yaml\")"
   ]
  },
  {
   "cell_type": "code",
   "execution_count": null,
   "metadata": {},
   "outputs": [],
   "source": [
    "data_dict = pd.read_excel(data_path, sheet_name=None)\n",
    "for k, v in data_dict.items():\n",
    "    data_dict[k] = v.replace(np.nan, None)\n",
    "data_dict"
   ]
  },
  {
   "cell_type": "markdown",
   "metadata": {},
   "source": [
    "## Entities\n",
    "The entities we will use for this data are:\n",
    "- EntityList\n",
    "    - StudyEntity\n",
    "        - Study (example-study) \n",
    "        - Person\n",
    "        - Sample\n",
    "        - PersonGroup\n",
    "        - SampleCollection (equivalent to one of the tabs)\n",
    "        - Timepoint\n",
    "\n",
    "Additionally, we want to extract properties for these entities from the BasicCodebook, but that's for later."
   ]
  },
  {
   "cell_type": "code",
   "execution_count": null,
   "metadata": {},
   "outputs": [],
   "source": [
    "s = [x for x in dir(peh) if \"sampl\" in x.lower()]\n",
    "print(s)\n",
    "print(dir(peh.SamplingResult))\n",
    "print(dir(peh.SamplingObservation))\n",
    "print(peh.SamplingResult())\n",
    "print(peh.SamplingObservation(id=\"\"))"
   ]
  },
  {
   "cell_type": "code",
   "execution_count": null,
   "metadata": {},
   "outputs": [],
   "source": [
    "entitylist = peh.EntityList()"
   ]
  },
  {
   "cell_type": "code",
   "execution_count": null,
   "metadata": {},
   "outputs": [],
   "source": [
    "study_sheet = data_dict[\"STUDYINFO\"]\n",
    "study = peh.Study(id=study_sheet.iloc[11][1])\n",
    "entitylist.studies = [study]\n",
    "study"
   ]
  },
  {
   "cell_type": "code",
   "execution_count": null,
   "metadata": {},
   "outputs": [],
   "source": [
    "timepoints_sheet = data_dict[\"TIMEPOINT\"]\n",
    "\n",
    "timepoints = {}\n",
    "for i, row in timepoints_sheet.iterrows():\n",
    "    tp = peh.Timepoint(id=peh.TimepointId(row[\"id_timepoint\"]))\n",
    "    timepoints[row[\"id_timepoint\"]] = tp\n",
    "entitylist.timepoints = timepoints\n",
    "study.timepoint_id_list = [peh.TimepointId(x) for x in timepoints.keys()]\n",
    "timepoints\n"
   ]
  },
  {
   "cell_type": "code",
   "execution_count": null,
   "metadata": {},
   "outputs": [],
   "source": [
    "# SAMPLE\n",
    "sample_sheet = data_dict[\"SAMPLE\"]\n",
    "\n",
    "# where to save these?\n",
    "samples = peh.SampleCollection(id = str(uuid.uuid4()))\n",
    "\n",
    "\n",
    "# SamplingObservation > SamplingResult > ObservedValue\n",
    "sampling_design = peh.SamplingDesign()\n",
    "to_ignore = {\"id_sample\", \"id_subject\", \"id_timepoint\"}\n",
    "sample_fields = {\"chol\", \"trigl\", \"lipid\", \"lipid_enz\", \"crt\", \"sg\", \"osm\", \"density\"}\n",
    "for _, row in sample_sheet.iterrows():\n",
    "    sample = peh.Sample(id=peh.SampleId(row[\"id_sample\"]))\n",
    "    samples.study_entity_links.append(peh.StudyEntityLink(study_entity=sample))\n",
    "    meta_values = []\n",
    "    sample_values = []\n",
    "    obs = []\n",
    "    for idx, val in row.items():\n",
    "        if idx not in to_ignore:\n",
    "            if idx not in sample_fields:\n",
    "                meta_values.append(peh.ObservedValue(observable_entity=sample.id, value=val, observable_property=idx))\n",
    "            else:\n",
    "                sample_values.append(peh.ObservedValue(observable_entity=sample.id, value=val, observable_property=idx))\n",
    "\n",
    "    meta_res = peh.SamplingResult(observed_values=meta_values)\n",
    "    sampling_res = peh.SamplingResult(observed_values=sample_values)\n",
    "    obs.append(peh.SamplingObservation(id=peh.SamplingObservationId(uuid.uuid4()), observation_result=sampling_res, observation_design=sampling_design, observation_type=peh.ObservationType.sampling))\n",
    "    obs.append(peh.SamplingObservation(id=peh.SamplingObservationId(uuid.uuid4()), observation_result=meta_res, observation_design=sampling_design, observation_type=peh.ObservationType.metadata))\n",
    "    timepoints[row[\"id_timepoint\"]].observations.append(obs)\n",
    "               \n",
    "                \n",
    "    \n",
    "    "
   ]
  },
  {
   "cell_type": "code",
   "execution_count": null,
   "metadata": {},
   "outputs": [],
   "source": [
    "\n",
    "\n",
    "subject_unique_sheet = data_dict[\"SUBJECTUNIQUE\"]\n",
    "subject_design = peh.QuestionnaireDesign()\n",
    "to_ignore = {\"id_subject\", \"id_timepoint\"}\n",
    "\n",
    "# where to save these\n",
    "subjects = []\n",
    "\n",
    "# I assume this should be a PersonCollection - just imagine it for now\n",
    "subjects = peh.PersonGroup(id = str(uuid.uuid4()))\n",
    "\n",
    "# And a PersonGroupCollection - just imagine it for now\n",
    "# person_groups = peh.PersonGroup()\n",
    "\n",
    "\n",
    "# link persons to each other\n",
    "subject_groups = {i: peh.PersonGroup(i) for i in set(subject_unique_sheet[\"id_participant\"].values)}\n",
    "\n",
    "for _, row in subject_unique_sheet.iterrows():\n",
    "    person = peh.Person(id=peh.PersonId(row[\"id_subject\"]))\n",
    "    subjects.study_entity_links.append(peh.StudyEntityLink(study_entity=person))\n",
    "    \n",
    "    values = []\n",
    "    obs = []\n",
    "    for idx, val in row.items():\n",
    "        if idx not in to_ignore:\n",
    "            values.append(peh.ObservedValue(observable_entity=person.id, value=val, observable_property=idx))\n",
    "\n",
    "    res = peh.QuestionnaireResult(observed_values=values)\n",
    "    obs.append(peh.QuestionnaireObservation(id=peh.QuestionnaireObservationId(uuid.uuid4()), observation_result=res, observation_design=subject_design, observation_type=peh.ObservationType.questionnaire))\n",
    "    # no timepoints linked, so we use the first one. Assumes these are somehow alphabetically or numerically sortable\n",
    "    timepoints[sort(list(timepoints.keys()))[0]].observations.append(obs)"
   ]
  },
  {
   "cell_type": "code",
   "execution_count": null,
   "metadata": {},
   "outputs": [],
   "source": [
    "from linkml_runtime.dumpers import yaml_dumper\n",
    "\n",
    "\n",
    "yaml_dumper.dump(entitylist, Path(\"out/PARC_data.yaml\"))\n",
    "# list all samples\n",
    "yaml_dumper.dump(samples, Path(\"out/PARC_samples.yaml\"))\n",
    "# list all subjects\n",
    "yaml_dumper.dump(subjects, Path(\"out/PARC_subjects.yaml\"))\n",
    "# yaml_dumper.dump(subject_groups, Path(\"out/PARC_subject_groups.yaml\"))"
   ]
  }
 ],
 "metadata": {
  "kernelspec": {
   "display_name": "Python 3",
   "language": "python",
   "name": "python3"
  },
  "language_info": {
   "codemirror_mode": {
    "name": "ipython",
    "version": 3
   },
   "file_extension": ".py",
   "mimetype": "text/x-python",
   "name": "python",
   "nbconvert_exporter": "python",
   "pygments_lexer": "ipython3",
   "version": "3.11.5"
  }
 },
 "nbformat": 4,
 "nbformat_minor": 2
}
