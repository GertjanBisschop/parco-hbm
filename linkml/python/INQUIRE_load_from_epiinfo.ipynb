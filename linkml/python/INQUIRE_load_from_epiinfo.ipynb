{
 "cells": [
  {
   "cell_type": "code",
   "execution_count": 13,
   "metadata": {},
   "outputs": [],
   "source": [
    "from pathlib import Path\n",
    "\n",
    "import pandas as pd\n",
    "import numpy as np\n",
    "import yaml\n",
    "from linkml_runtime.dumpers import json_dumper, yaml_dumper\n",
    "\n",
    "import peh"
   ]
  },
  {
   "cell_type": "code",
   "execution_count": 2,
   "metadata": {},
   "outputs": [],
   "source": [
    "epiinfo_field_list_path = Path(\"../source_tables/INQUIRE/Field_list.xlsx\")\n",
    "epiinfo_field_codes_path = Path(\"../source_tables/INQUIRE/Field_codes.yml\")\n",
    "yaml_file_path = Path(\"../project_examples/INQUIRE/05-inquire_observableproperties.yaml\")"
   ]
  },
  {
   "cell_type": "code",
   "execution_count": 4,
   "metadata": {},
   "outputs": [],
   "source": [
    "df_fields = pd.read_excel(epiinfo_field_list_path).replace(np.nan, None)\n",
    "with open(epiinfo_field_codes_path, 'r') as stream:\n",
    "    field_codes = yaml.safe_load(stream)\n",
    "\n",
    "page_list = list({(t[1], t[2]) for t in df_fields[[\"PageId\", \"metaPages_Name\"]].to_records(\"tuple\") if not(t[1] is None and t[2] is None)})"
   ]
  },
  {
   "cell_type": "code",
   "execution_count": 5,
   "metadata": {},
   "outputs": [],
   "source": [
    "def get_valueoptions(table_name, column_name):\n",
    "    value_dict = field_codes[table_name]\n",
    "    if value_dict[\"name\"].strip().lower() != column_name.strip().lower():\n",
    "        print(value_dict[\"name\"])\n",
    "        print(column_name)\n",
    "        raise KeyError(f\"ValueOption Lookup KeyError: SourceTableName {table_name} doesn't match TextColumnName {column_name}\")\n",
    "    return [{\"key\":t[0], \"value\":t[1] if len(t) > 1 else t[0]} for t in [[i.strip() for i in v.split(\"-\")] for v in field_codes[table_name][\"values\"]]]"
   ]
  },
  {
   "cell_type": "code",
   "execution_count": 15,
   "metadata": {},
   "outputs": [],
   "source": [
    "observablepropertygroups = [peh.ObservablePropertyGroup(\n",
    "    id = page[1],\n",
    "    shortname = page[1],\n",
    "    name = page[1],\n",
    "    is_abstract = False,\n",
    "    sort_order = page[0],\n",
    ") for page in page_list]\n",
    "metadatafields = [\n",
    "    peh.ObservablePropertyMetadataField(id = \"min\", name = \"min\", value_type = \"decimal\"),\n",
    "    peh.ObservablePropertyMetadataField(id = \"max\", name = \"max\", value_type = \"decimal\"),\n",
    "    peh.ObservablePropertyMetadataField(id = \"lower\", name = \"lower\", value_type = \"string\"),\n",
    "    peh.ObservablePropertyMetadataField(id = \"upper\", name = \"upper\", value_type = \"string\"),\n",
    "    peh.ObservablePropertyMetadataField(id = \"minlength\", name = \"minlength\", value_type = \"integer\"),\n",
    "    peh.ObservablePropertyMetadataField(id = \"maxlength\", name = \"maxlength\", value_type = \"integer\"),\n",
    "    peh.ObservablePropertyMetadataField(id = \"format\", name = \"format\", value_type = \"string\"),\n",
    "]"
   ]
  },
  {
   "cell_type": "code",
   "execution_count": 16,
   "metadata": {},
   "outputs": [
    {
     "data": {
      "text/plain": [
       "{'PageId': 1.0,\n",
       " 'metaPages_Name': 'Identifier and demographics',\n",
       " 'TabIndex': 2.0,\n",
       " 'metaFields_Name': 'Todaysdate',\n",
       " 'PromptText': \"Today's date (as filled by participant on questionnaire)\",\n",
       " 'IsRequired': True,\n",
       " 'MaxLength': None,\n",
       " 'Lower': None,\n",
       " 'Upper': '2023-05-16',\n",
       " 'SourceTableName': None,\n",
       " 'CodeColumnName': None,\n",
       " 'TextColumnName': None,\n",
       " 'metaFieldTypes_Name': 'Date',\n",
       " 'IsDropDown': False,\n",
       " 'metaDataTypes_Name': 'Date',\n",
       " 'Pattern': 'YYYY-MM-DD',\n",
       " 'List': None}"
      ]
     },
     "execution_count": 16,
     "metadata": {},
     "output_type": "execute_result"
    }
   ],
   "source": [
    "# Consistency Checks\n",
    "#df = df_fields[df_fields[\"SourceTableName\"].isnull()==False]\n",
    "#df[df[\"SourceTableName\"].apply(str.lower) != \"code\" + df[\"CodeColumnName\"].apply(str.lower) + \"1\"]\n",
    "#df[df[\"TextColumnName\"].apply(str.lower) != df[\"CodeColumnName\"].apply(str.lower)]\n",
    "df_fields.to_dict(\"records\")[4]"
   ]
  },
  {
   "cell_type": "code",
   "execution_count": 17,
   "metadata": {},
   "outputs": [],
   "source": [
    "observableproperties = [peh.ObservableProperty(\n",
    "    id=f[\"metaFields_Name\"],\n",
    "    shortname=f[\"metaFields_Name\"],\n",
    "    name=f[\"metaFields_Name\"],\n",
    "    value_options_as_list=get_valueoptions(f[\"SourceTableName\"], f[\"TextColumnName\"])\n",
    ") for f in df_fields.to_dict(\"records\") if f[\"metaFieldTypes_Name\"] == \"Legal Values\"]"
   ]
  },
  {
   "cell_type": "code",
   "execution_count": 18,
   "metadata": {},
   "outputs": [],
   "source": [
    "data = {\n",
    "    \"observablepropertygroups_as_list\": observablepropertygroups,\n",
    "    \"metadata_fields_as_list\": metadatafields,\n",
    "    \"observableproperties_as_list\": observableproperties,\n",
    "}\n",
    "yaml_dumper.dump(data, yaml_file_path)"
   ]
  },
  {
   "cell_type": "code",
   "execution_count": null,
   "metadata": {},
   "outputs": [],
   "source": []
  },
  {
   "cell_type": "code",
   "execution_count": null,
   "metadata": {},
   "outputs": [],
   "source": []
  }
 ],
 "metadata": {
  "kernelspec": {
   "display_name": "Python 3",
   "language": "python",
   "name": "python3"
  },
  "language_info": {
   "codemirror_mode": {
    "name": "ipython",
    "version": 3
   },
   "file_extension": ".py",
   "mimetype": "text/x-python",
   "name": "python",
   "nbconvert_exporter": "python",
   "pygments_lexer": "ipython3",
   "version": "3.11.0"
  }
 },
 "nbformat": 4,
 "nbformat_minor": 2
}
