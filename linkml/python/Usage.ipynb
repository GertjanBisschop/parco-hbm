{
 "cells": [
  {
   "cell_type": "code",
   "execution_count": 53,
   "metadata": {},
   "outputs": [],
   "source": [
    "import peh\n",
    "import json\n",
    "from pathlib import Path\n",
    "import pydantic_yaml\n",
    "\n",
    "from linkml_runtime.loaders import json_loader, yaml_loader\n",
    "from linkml_runtime.dumpers import json_dumper, yaml_dumper\n",
    "from peh import NamedThing, NamedThingId, EntityList, Project, Study, Stakeholder, BioChemEntity\n",
    "\n",
    "from collections import defaultdict\n",
    "\n",
    "import logging\n",
    "LOGGER = logging.getLogger()\n",
    "LOGGER.setLevel(logging.DEBUG)"
   ]
  },
  {
   "cell_type": "code",
   "execution_count": 44,
   "metadata": {},
   "outputs": [],
   "source": [
    "IN_MEMORY_DICT = defaultdict(defaultdict)\n",
    "\n",
    "def reset_store():\n",
    "    IN_MEMORY_DICT = defaultdict(defaultdict)\n",
    "\n",
    "def save_entity_to_store(entity):\n",
    "    save_object_to_store(entity.__class__.__name__, entity.id, entity)\n",
    "\n",
    "def save_object_to_store(obj_class_name, obj_id, obj):\n",
    "    IN_MEMORY_DICT[obj_class_name][obj_id] = obj\n",
    "\n",
    "def get_object_from_store(obj_class_name, obj_id):\n",
    "    if obj_class_name in IN_MEMORY_DICT.keys() and obj_id in IN_MEMORY_DICT[obj_class_name].keys():\n",
    "        return IN_MEMORY_DICT[obj_class_name][obj_id]\n",
    "    else:\n",
    "        logging.debug(f\"IN_MEMORY_DICT Storage error: Object of class '{obj_class_name}' with id '{obj_id}' not found.\")\n",
    "        raise KeyError(f\"IN_MEMORY_DICT Storage error: Object of class '{obj_class_name}' with id '{obj_id}' not found.\")\n",
    "\n",
    "def load_entities_from_folder(folder_path):\n",
    "    file_paths = list(folder_path.glob('**/*.yaml'))\n",
    "    for file_path in file_paths:\n",
    "        logging.debug(file_path)\n",
    "        load_entities_from_file(str(file_path))\n",
    "\n",
    "def load_entities_from_file(file_path):\n",
    "    p = yaml_loader.load(file_path, EntityList)\n",
    "    for entity_list_name in list(p._keys()):\n",
    "        for entity in getattr(p, entity_list_name):\n",
    "            save_entity_to_store(entity)\n",
    "\n",
    "def load_entities_from_tree(root):\n",
    "    if isinstance(root, NamedThing):\n",
    "        save_entity_to_store(root)\n",
    "        for property_name in list(root._keys()):\n",
    "            property = getattr(root, property_name)\n",
    "            if not(property is None):\n",
    "                if isinstance(property, list):\n",
    "                    load_entities_from_tree(property)\n",
    "                elif isinstance(property, dict):\n",
    "                    load_entities_from_tree(list(property.values()))\n",
    "                else:\n",
    "                    load_entities_from_tree([property])\n",
    "#    elif isinstance(root, NamedThingId):\n",
    "#        save_object_to_store(root.__class__.__name__, str(root), root)\n",
    "    if isinstance(root, (dict, defaultdict)):\n",
    "        root = list(root.values())\n",
    "    if isinstance(root, list):\n",
    "        for entity in root:\n",
    "            load_entities_from_tree(entity)\n",
    "\n",
    "def get_entity(obj_id, obj_class_name=None):\n",
    "    if not obj_class_name:\n",
    "        found_class_name = obj_id.__class__.__name__\n",
    "    elif isinstance(obj_class_name, type):\n",
    "        found_class_name = obj_class_name.__name__\n",
    "    else:\n",
    "        found_class_name = obj_class_name\n",
    "    found_id = obj_id.id if hasattr(obj_id, \"id\") else obj_id\n",
    "    if found_class_name[-2:] == \"Id\":\n",
    "        found_class_name = found_class_name[:-2]\n",
    "    return get_object_from_store(found_class_name, found_id)\n",
    "\n",
    "#p = yaml_loader.load(r'..\\data\\ProjectList_data.yaml', EntityList)\n",
    "#p = pydantic_yaml.parse_yaml_file_as(peh.Project, r\"./Project_data.yaml\")"
   ]
  },
  {
   "cell_type": "code",
   "execution_count": 45,
   "metadata": {},
   "outputs": [
    {
     "name": "stderr",
     "output_type": "stream",
     "text": [
      "DEBUG:root:..\\data\\BioChemEntityList_data.yaml\n",
      "DEBUG:root:..\\data\\BioChemGroupingList_data.yaml\n",
      "DEBUG:root:..\\data\\IndicatorList_data.yaml\n",
      "DEBUG:root:..\\data\\MatrixList_data.yaml\n",
      "DEBUG:root:..\\data\\ObservablePropertyGroupList_data.yaml\n",
      "DEBUG:root:..\\data\\ObservablePropertyList_data.yaml\n",
      "DEBUG:root:..\\data\\ObservablePropertyMetadataFieldList_data.yaml\n",
      "DEBUG:root:..\\data\\ProjectList_data.yaml\n",
      "DEBUG:root:..\\data\\StakeholderList_data.yaml\n",
      "DEBUG:root:..\\data\\StudyList_data.yaml\n",
      "DEBUG:root:..\\data\\TimepointList_data.yaml\n"
     ]
    },
    {
     "name": "stdout",
     "output_type": "stream",
     "text": [
      "BioChemEntity ['hg']\n",
      "BioChemGrouping ['Acrylamide', 'Alkaloid', 'Anilines and MOCA', 'Aprotic Solvents', 'Bisphenols', 'Care Products', 'DINCH', 'Diisocyanates', 'Dioxins', 'Flame Retardants', 'Furans', 'Glycol Ethers', 'Glyphosate', 'Herbicides', 'Metals', 'Musks', 'Mycotoxins', 'PCBs', 'Parabens', 'Per-/Poly-Fluorinated Compounds (PFASs)', 'Pesticides', 'Pesticides (Carbamate)', 'Pesticides (Pyrethroids)', 'Phthalates', 'Polycyclic Aromatic Hydrocarbons (PAHs)', 'UV-filters (Benzophenones)', 'Volatile Organic Compounds (VOCs)', 'Volatile Anaesthetics']\n",
      "Indicator ['Age of a person in years', 'Concentration of mercury in morning urine']\n",
      "Matrix ['bwb', 'bs', 'bp', 'bbc', 'rbc', 'cbwb', 'cbs', 'cbp', 'cbbc', 'us', 'um', 'uf', 'ud', 'bm', 'h', 'n', 'atn', 'btn', 'nm', 'sa', 'st', 'sem', 'ebc', 'cbt', 'adi', 'dw', 'af', 'plt', 'idust', 'odust', 'oair', 'iair', 'pair', 'soil', 'kgfood', 'egg', 'water', 'vams', 'dbs', 'swb', 'sw', 'blood', 'bloodcells', 'cord blood', 'urine', 'air', 'food']\n",
      "ObservablePropertyGroup ['<TODO: nog aan te vullen effect>', '<TODO: nog aan te vullen exposure>', 'Acrylamide', 'Alcohol and drugs', 'Alkaloid', 'Anilines and MOCA', 'Animals', 'Aprotic solvents', 'Asthma and allergy', 'Baby feeding', 'Bathing and showering', 'Biological food', 'Bisphenols', 'Blood Lipids and lipid transport proteins', 'Blood and blood composition', 'Building characteristics', 'Cardiometabolic health and metabolic diseases', 'Care products', 'Cell ageing', 'Cell growth and cancer markers', 'Chicken', 'Child CLB data', 'Child at birth ', 'Child development', 'Child exposure', 'Child puberty', 'Commuting', 'Contact information', 'DINCH', 'Diisocyanates', 'Dioxins', 'Domestic animals', 'Early life exposure ', 'Education and degree', 'Effect', 'Effect marker', 'Environmental exposure', 'Environmental exposure due to agriculture', 'Environmental exposure due to air pollution, noise pollution, odor nuisance ', 'Environmental exposure due to build environment ', 'Environmental exposure due to climate and changing climate', 'Environmental exposure due to green area', 'Environmental exposure due to industry', 'Environmental exposure due to traffic and combustion ', 'Environmental indoor exposure', 'Epigenetic markers', 'Essential elements', 'Exposure', 'Exposure during pregnancy', 'Exposure marker', 'Family composition', 'Family history of disease', 'Fertility', 'Flame retardants', 'Food supplements', 'Food supplements during pregnancy', 'Furans', 'General child behavior ', 'General food', 'General food consumption', 'General food frequency', 'General indoor environment', 'General medication and vaccination', 'General mental health', 'General perception on exposure', 'General physical activity', 'General physical activity ', 'General physical health', 'General property', 'General sample information', 'Genotoxicity', 'Glycol ethers', 'Ground and well water', 'Hair care', 'Halogens', 'Health', 'Health data', 'Health outcome', 'Herbicides', 'Hexamoll DINCH', 'Historical and prevalent chronic diseases or conditions', 'Hormone use', 'Housing', 'Housing problems', 'Indoor Energy, combustion behaviour and engines', 'Indoor cleaning habits and products', 'Indoor environment', 'Indoor ventilation', 'Inflammation and immunity', 'Injury, hospitalisation and surgery', 'Kidney function', 'Kindfiche', 'Kitchen garden', 'Lab markers for cardiometabolic health and metabolic diseases', 'Liver function', 'Local and/or own chicken eggs', 'Local and/or own food consumption and frequency ', 'Local and/or own kitchen garden food', 'Local food', 'Medication during pregnancy', 'Menstruation', 'Mental health', 'Metabolic hormones', 'Metals', 'Musks', 'Mycotoxins', 'Nail care', 'Nationality, origin and language', 'Neuro Computer tests', 'Neuro child communication', 'Neuro child fine motor skills', 'Neuro child general', 'Neuro child gross motor skills', 'Neuro child personal-social', 'Neuro child problem solving', 'Neuro development', 'Neuro general', 'Neuro-cognition', 'Nicotine', 'Nutricion and diet', 'Occupation and income', 'Occupational exposure ', 'Outdoor environment', 'Outdoor general', 'Parabens', 'Passive smoking', 'Per-/poly-fluorinated compounds (PFASs)', 'Perception on exposure', 'Perception on exposure due to climate and changing climate', 'Perception on exposure due to food ', 'Perception on exposure due to indoor environment ', 'Perception on exposure exposure due to agriculture ', 'Perception on exposure exposure due to air pollution, noise pollution, odor nuisance ', 'Perception on exposure exposure due to build environment ', 'Perception on exposure exposure due to green area ', 'Perception on exposure exposure due to industry ', 'Perception on exposure exposure due to traffic and combustion ', 'Persistent Organic Pollutants (POPs)', 'Personal', 'Personal behavior', 'Personal care and hygiene', 'Personal exposure', 'Personal exposure to products ', 'Personal exposure to smoking', 'Personal information', 'Personal parameters', 'Pesticides', 'Pesticides (carbamate)', 'Pesticides (pyrethroids)', 'Phthalates', 'Physical health', 'Physical health during birth', 'Physical health during breast feeding', 'Physical health during pregnancy', 'Polycyclic Aromatic Hydrocarbons (PAHs)', 'Practical', 'Pregnancy', 'Products on skin', 'Property', 'Property of blood', 'Property of soil', 'Property of urine', 'Puberty', 'Questionnaire and sample information', 'Questionnaire information', 'Recent illness or medication information', 'Recent nutricion information', 'Recent personal exposure', 'Regional characteristics', 'Reproductive and metabolic health outcomes', 'Reproductive breast feeding', 'Reproductive health', 'Residence', 'Sample information', 'Sample information on blood sampling', 'Sample information on cordblood collection', 'Sample information on hair collection', 'Sample information on mother milk collection', 'Sample information on urine collection', 'Sedentary behaviour', 'Sleeping habits and problems', 'Smoking', 'Socio-economic status', 'Steroid/Sex hormones', 'Stress hormones', 'Stress perception', 'Stress perception during pregnancy', 'Study agreement', 'Study design', 'Study information', 'Thyroid hormones', 'Tooth care', 'Triclosan', 'UV-filters (benzophenones)', 'UV-screens', 'Urinary dilution', 'Ventilation systems', 'Vitamins', 'Volatile Organic Compounds (VOCs)', 'Volatile anaesthetics', 'characteristics of non human samples', 'cytokines']\n",
      "ObservableProperty ['relation', 'sex', 'subpopulation', 'smoking_m', 'case_control', 'population', 'isced', 'isced_m', 'isced_f', 'degurba', 'smoking', 'isced_hh', 'subpopulation_other', 'country', 'nuts2', 'nuts3', 'subdivision', 'nuts1', 'height', 'weight', 'bmi', 'agedays', 'agemonths', 'ageweeks', 'age_birth_m', 'ageyears', 'aama', 'aamasulf', 'ace', 'achlor', 'acy', 'adipon', 'adp', 'afbgua', 'afbone', 'afbtwo', 'afgone', 'afgtwo', 'afm', 'ag', 'ahch', 'ahtn', 'al', 'alchlor', 'aldrin', 'almer', 'amcc', 'ame', 'ampa', 'an', 'aoh', 'apoa1', 'apoa2', 'apob100', 'asb', 'asfive', 'asthree', 'atmer', 'atrz', 'au', 'azal', 'azel', 'b', 'ba', 'baa', 'baac', 'bap', 'bboehep', 'bboephr', 'bcepms', 'bciphipp', 'bcippms', 'bdcippms', 'bde15', 'bde17', 'bde196', 'bde197', 'bde203', 'bde25', 'bde33', 'bdea', 'bdeb', 'bdec', 'bded', 'bdee', 'bdef', 'bdeg', 'bdeh', 'bdei', 'bdej', 'bdek', 'bdel', 'bdem', 'bden', 'bdeo', 'bdnf', 'be', 'benpar', 'bghip', 'bhch', 'bi', 'boscalid', 'bp', 'bpa', 'bpaf', 'bpb', 'bpc', 'bpf', 'bpone', 'bps', 'bpseven', 'bpthree', 'bptwo', 'bpz', 'btbpe', 'butpar', 'bzal', 'bzel', 'ca', 'carphe', 'cd', 'cdcca', 'ce', 'chlormet', 'chlormetox', 'chlorox', 'chlorpyr', 'chltr', 'chol', 'cifca', 'cisdbca', 'cishepexepo', 'cisnonac', 'cit', 'co', 'cot', 'crt', 'cry', 'cs', 'cu', 'cxmepp', 'cxmeptp', 'cxmidp', 'cxmmhtp', 'cxmphp', 'cxmpp', 'cyprodiniloh', 'da26', 'dbaha', 'dbca', 'dbdpe', 'dbph', 'dbt', 'dcp', 'dcp24', 'dcp26', 'dcpa', 'deampy', 'decfour', 'decthree', 'dectwo', 'dedtp', 'density', 'dep', 'des2hyat', 'desat', 'desdesisoat', 'desisoat', 'detp', 'dgua', 'dieldrin', 'dihphediol', 'dimetachlor', 'diohnap', 'diuron', 'dma', 'dmdtp', 'dmp', 'dmtp', 'dnbphr', 'dona', 'donfglca', 'dontglca', 'dot', 'dphpms', 'dpht', 'dpte', 'e2', 'eaa', 'eeaa', 'ehphp', 'ehtbb', 'eightdipap', 'eightfts', 'eightmonopap', 'endrin', 'etfosaa', 'etfose', 'etpar', 'etu', 'fbone', 'fbpa', 'fbpf', 'fbps', 'fdon', 'fe', 'fivehphe', 'fivemch', 'fiveohthiabendazole', 'fla', 'fluo', 'fosa', 'fourcry', 'fourfts', 'fourhbp', 'fourhphe', 'fourmbp', 'fourohdphp', 'fourohpyrimeth', 'fpba', 'fsh', 'ft3', 'ft4', 'galax', 'gama', 'ghch', 'glucose', 'glyp', 'ha2', 'hbaa', 'hbb', 'hbcd', 'hbcda', 'hbcdb', 'hbcdg', 'hcb', 'hdl', 'hepip', 'heptachlor', 'hesi', 'hf', 'hfpoda', 'hg', 'hist_ar', 'hist_esr1', 'hist_esr2', 'hist_gr', 'hist_ogg1', 'hist_ppara', 'hist_pparg', 'hist_suv39h', 'hist_tert', 'hist_thra', 'hist_thrb', 'hmsi', 'hnep', 'hnmp', 'hocb107', 'hocb146', 'hocb187', 'hpcdd', 'hs2', 'insulin', 'iod', 'ip', 'ipp', 'ippmu', 'iproppar', 'ir', 'isobip', 'isoproturon', 'kiss_cpg1', 'kiss_cpg2', 'kiss_cpg3', 'kiss_cpg4', 'kiss54', 'lbnmepfosa', 'lbpfbs', 'lbpfda', 'lbpfdoda', 'lbpfds', 'lbpfhpa', 'lbpfhps', 'lbpfhxa', 'lbpfhxs', 'lbpfna', 'lbpfoa', 'lbpfos', 'lbpfosa', 'lbpfpea', 'lbpfteda', 'lbpftrda', 'lbpfunda', 'ldl', 'leptin', 'lh', 'li', 'line1', 'lipid', 'lipid_enz', 'lipid_enz_harm', 'maa', 'mbt', 'mbzp', 'mchp', 'mchxp', 'mcmhp', 'mcoch', 'mcop', 'mcp4', 'mcpep', 'meaa', 'meha', 'mehp', 'mehtp', 'mep', 'metpar', 'mg', 'mhg', 'mhhpp', 'mhhxp', 'mhnch', 'mhnp', 'mibp', 'midp', 'minch', 'minp', 'mipep', 'mirex', 'mk', 'mma', 'mmp', 'mn', 'mnbp', 'mnhpp', 'mnhxp', 'mnpep', 'mo', 'monch', 'monp', 'mop', 'mot', 'mpa', 'mpht', 'mprp', 'mx', 'nafourap', 'naph', 'netfosa', 'ni', 'ninehfluo', 'ninehphe', 'niphen', 'niv', 'nmefosa', 'obind', 'ocdd', 'ohbap', 'ohehdphp', 'ohmeha', 'ohmehp', 'ohmehtp', 'ohmibp', 'ohmidp', 'ohmnbp', 'ohmphp', 'ohpyr', 'ohtboep', 'ohtphp', 'onehcry', 'onehphe', 'oneohnap', 'opdde', 'opddt', 'osm', 'ota', 'oxc', 'oxomeha', 'oxomehp', 'oxomehtp', 'oxomidp', 'oxomphp', 'paa', 'paret', 'parmet', 'pb', 'pbb153', 'pbeb', 'pbph', 'pbt', 'pcb101', 'pcb105', 'pcb110', 'pcb114', 'pcb118', 'pcb123', 'pcb126', 'pcb128', 'pcb138', 'pcb146', 'pcb149', 'pcb151', 'pcb153', 'pcb156', 'pcb157', 'pcb158', 'pcb167', 'pcb169', 'pcb170', 'pcb171', 'pcb172', 'pcb174', 'pcb177', 'pcb178', 'pcb18', 'pcb180', 'pcb183', 'pcb187', 'pcb189', 'pcb194', 'pcb195', 'pcb196', 'pcb196and203', 'pcb199', 'pcb201', 'pcb203', 'pcb206', 'pcb209', 'pcb28', 'pcb44', 'pcb49', 'pcb52', 'pcb66', 'pcb74', 'pcb77', 'pcb81', 'pcb87', 'pcb99', 'pcdd66', 'pcdd67', 'pcdd70', 'pcdf114', 'pcdf118', 'pcdf121', 'pcdf124', 'pcdf130', 'pcdf131', 'pcdf134', 'pcdf135', 'pcdf83', 'pcdf94', 'pcp', 'pd', 'pecdd', 'pentip', 'pfba', 'pfbs', 'pfda', 'pfdoda', 'pfdpa', 'pfds', 'pfesa', 'pfhpa', 'pfhps', 'pfhxa', 'pfhxpa', 'pfhxs', 'pfna', 'pfns', 'pfoa', 'pfopa', 'pfos', 'pfpea', 'pfpes', 'pfteda', 'pftrda', 'pfunda', 'phaa', 'phba', 'phediol', 'phetetrol', 'ppb', 'ppdde', 'ppddt', 'propoxur', 'pt', 'pyr', 'sb', 'sdp', 'se', 'sevoflurane', 'sg', 'shbg', 'shphe', 'simz', 'simzmerc', 'sixdipap', 'sixeightdipap', 'sixfts', 'sixhcry', 'sixmonopap', 'sn', 'ster', 'stwoninehphe', 'stwothreehfluo', 'stwothreehphe', 'sumastfmma', 'sumdcca', 'sumdiohnap', 'sumdp', 'sumeightphthal', 'sumfourpfas', 'sumglyphampa', 'sumhfluo', 'sumhmwphthal', 'sumhpheone', 'sumhphetwo', 'sumlmwphthal', 'summidp', 'summinch', 'summinp', 'sumohcxmehp', 'sumohnap', 'sumohoxocxmehp', 'sumohoxomehp', 'sumohoxomehptwo', 'sumpba', 'sumpfhxspfos', 'sumpfoapfna', 'sumtas', 'sumtra', 'tas', 'tbbpa', 'tbbpadbpe', 'tbph', 'tbt', 'tcbd', 'tcep', 'tcp234', 'tcp245', 'tcp246', 'tcpa', 'tcpy', 'tcr', 'tdcca', 'tdomone', 'tdon', 'tebuconazoleoh', 'tecp2346', 'telleng', 'thb', 'threecry', 'threehfluo', 'threehphe', 'threeninebaa', 'threeohfa', 'threepba', 'ti', 'tl', 'tnona', 'tot', 'tota', 'tpht', 'tra', 'transhepexepo', 'triclos', 'trigl', 'tsh', 'tt', 'ttmca', 'ttwo', 'twocry', 'twohfluo', 'twohphe', 'twoohnap', 'tzen', 'u', 'uvolume', 'uvolumeday', 'v', 'w', 'ychlor', 'zan', 'zensulf', 'zn']\n",
      "ObservablePropertyMetadataField ['default_serialized', 'min', 'max', 'length', 'minlength', 'maxlength']\n",
      "Project ['PARC', 'HBM4EU', 'EIRENE-Flanders']\n",
      "Stakeholder ['PARC', 'FHBM', 'VITO', 'MU', 'JSI']\n",
      "Study ['HBM4EU-Occupational', 'PARC-Occupational', 'chromate', 'SPECIMEn', '3XG', 'HBM4EU-aligned']\n",
      "Timepoint ['3xGST03']\n",
      "Observation ['questionnaire_000x1', 'metadata_000x5']\n"
     ]
    }
   ],
   "source": [
    "IN_MEMORY_DICT = defaultdict(defaultdict)\n",
    "load_entities_from_folder(Path(r'..\\data'))\n",
    "load_entities_from_tree(IN_MEMORY_DICT)\n",
    "\n",
    "for cn in IN_MEMORY_DICT.keys():\n",
    "    print(cn, list(IN_MEMORY_DICT[cn].keys()))"
   ]
  },
  {
   "cell_type": "code",
   "execution_count": 51,
   "metadata": {},
   "outputs": [
    {
     "name": "stdout",
     "output_type": "stream",
     "text": [
      "Study(id='3XG', shortname='3XG', name=None, description=None, label=None, study_stakeholders_as_list=[StudyStakeholder(stakeholder='VITO', study_roles=[(text='principal_investigator'), (text='data_controller'), (text='data_processor'), (text='data_user')])], timepoints=['3xGST03'], study_entities=[], projects=['HBM4EU', 'PARC', 'EIRENE'])\n",
      "Stakeholder(id='VITO', shortname='VITO', name='VITO', description=None, label=None, geographic_scope='BE')\n",
      "Stakeholder(id='VITO', shortname='VITO', name='VITO', description=None, label=None, geographic_scope='BE')\n"
     ]
    }
   ],
   "source": [
    "print(get_entity(get_entity(\"3XG\", \"Study\")))\n",
    "print(get_entity(get_entity(\"3XG\", \"Study\").study_stakeholders_as_list[0].stakeholder))\n",
    "print(get_entity(\"VITO\", Stakeholder))"
   ]
  },
  {
   "cell_type": "code",
   "execution_count": 55,
   "metadata": {},
   "outputs": [],
   "source": [
    "vito = get_entity(\"VITO\", Stakeholder)\n",
    "yaml_dumper.dump(vito, Path(r'.\\vito.yaml'))\n",
    "_3XG = get_entity(\"3XG\", Study)\n",
    "yaml_dumper.dump(_3XG, Path(r'.\\_3XG.yaml'))"
   ]
  },
  {
   "cell_type": "code",
   "execution_count": null,
   "metadata": {},
   "outputs": [],
   "source": []
  },
  {
   "cell_type": "code",
   "execution_count": null,
   "metadata": {},
   "outputs": [],
   "source": []
  }
 ],
 "metadata": {
  "kernelspec": {
   "display_name": "Python 3",
   "language": "python",
   "name": "python3"
  },
  "language_info": {
   "codemirror_mode": {
    "name": "ipython",
    "version": 3
   },
   "file_extension": ".py",
   "mimetype": "text/x-python",
   "name": "python",
   "nbconvert_exporter": "python",
   "pygments_lexer": "ipython3",
   "version": "3.11.0"
  }
 },
 "nbformat": 4,
 "nbformat_minor": 2
}
