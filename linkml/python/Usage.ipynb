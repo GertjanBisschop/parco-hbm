{
 "cells": [
  {
   "cell_type": "code",
   "execution_count": null,
   "metadata": {},
   "outputs": [],
   "source": [
    "import peh\n",
    "import json\n",
    "from pathlib import Path\n",
    "import pydantic_yaml\n",
    "\n",
    "from linkml_runtime.loaders import json_loader, yaml_loader\n",
    "from linkml_runtime.dumpers import json_dumper, yaml_dumper\n",
    "from peh import NamedThing, NamedThingId, EntityList, Project, Study, Stakeholder, BioChemEntity\n",
    "\n",
    "from collections import defaultdict\n",
    "\n",
    "import logging\n",
    "LOGGER = logging.getLogger()\n",
    "LOGGER.setLevel(logging.DEBUG)"
   ]
  },
  {
   "cell_type": "code",
   "execution_count": null,
   "metadata": {},
   "outputs": [],
   "source": [
    "IN_MEMORY_DICT = defaultdict(defaultdict)\n",
    "\n",
    "def reset_store():\n",
    "    IN_MEMORY_DICT = defaultdict(defaultdict)\n",
    "\n",
    "def save_entity_to_store(entity):\n",
    "    save_object_to_store(entity.__class__.__name__, entity.id, entity)\n",
    "\n",
    "def save_object_to_store(obj_class_name, obj_id, obj):\n",
    "    IN_MEMORY_DICT[obj_class_name][obj_id] = obj\n",
    "\n",
    "def get_object_from_store(obj_class_name, obj_id):\n",
    "    if obj_class_name in IN_MEMORY_DICT.keys() and obj_id in IN_MEMORY_DICT[obj_class_name].keys():\n",
    "        return IN_MEMORY_DICT[obj_class_name][obj_id]\n",
    "    else:\n",
    "        logging.debug(f\"IN_MEMORY_DICT Storage error: Object of class '{obj_class_name}' with id '{obj_id}' not found.\")\n",
    "        raise KeyError(f\"IN_MEMORY_DICT Storage error: Object of class '{obj_class_name}' with id '{obj_id}' not found.\")\n",
    "\n",
    "def load_entities_from_folder(folder_path):\n",
    "    file_paths = list(folder_path.glob('**/*.yaml'))\n",
    "    for file_path in file_paths:\n",
    "        logging.debug(file_path)\n",
    "        load_entities_from_file(str(file_path))\n",
    "\n",
    "def load_entities_from_file(file_path):\n",
    "    p = yaml_loader.load(file_path, EntityList)\n",
    "    for entity_list_name in list(p._keys()):\n",
    "        for entity in getattr(p, entity_list_name):\n",
    "            save_entity_to_store(entity)\n",
    "\n",
    "def load_entities_from_tree(root):\n",
    "    if isinstance(root, NamedThing):\n",
    "        save_entity_to_store(root)\n",
    "        for property_name in list(root._keys()):\n",
    "            property = getattr(root, property_name)\n",
    "            if not(property is None):\n",
    "                if isinstance(property, list):\n",
    "                    load_entities_from_tree(property)\n",
    "                elif isinstance(property, dict):\n",
    "                    load_entities_from_tree(list(property.values()))\n",
    "                else:\n",
    "                    load_entities_from_tree([property])\n",
    "#    elif isinstance(root, NamedThingId):\n",
    "#        save_object_to_store(root.__class__.__name__, str(root), root)\n",
    "    if isinstance(root, (dict, defaultdict)):\n",
    "        root = list(root.values())\n",
    "    if isinstance(root, list):\n",
    "        for entity in root:\n",
    "            load_entities_from_tree(entity)\n",
    "\n",
    "def get_entity(obj_id, obj_class_name=None):\n",
    "    if not obj_class_name:\n",
    "        found_class_name = obj_id.__class__.__name__\n",
    "    elif isinstance(obj_class_name, type):\n",
    "        found_class_name = obj_class_name.__name__\n",
    "    else:\n",
    "        found_class_name = obj_class_name\n",
    "    found_id = obj_id.id if hasattr(obj_id, \"id\") else obj_id\n",
    "    if found_class_name[-2:] == \"Id\":\n",
    "        found_class_name = found_class_name[:-2]\n",
    "    return get_object_from_store(found_class_name, found_id)\n",
    "\n",
    "#p = yaml_loader.load(r'..\\data\\ProjectList_data.yaml', EntityList)\n",
    "#p = pydantic_yaml.parse_yaml_file_as(peh.Project, r\"./Project_data.yaml\")"
   ]
  },
  {
   "cell_type": "code",
   "execution_count": null,
   "metadata": {},
   "outputs": [],
   "source": [
    "IN_MEMORY_DICT = defaultdict(defaultdict)\n",
    "load_entities_from_folder(Path(r'..\\data'))\n",
    "load_entities_from_tree(IN_MEMORY_DICT)\n",
    "\n",
    "for cn in IN_MEMORY_DICT.keys():\n",
    "    print(cn, list(IN_MEMORY_DICT[cn].keys()))"
   ]
  },
  {
   "cell_type": "code",
   "execution_count": null,
   "metadata": {},
   "outputs": [],
   "source": [
    "print(get_entity(get_entity(\"3XG\", \"Study\")))\n",
    "print(get_entity(get_entity(\"3XG\", \"Study\").study_stakeholders[0].stakeholder))\n",
    "print(get_entity(\"FHBM\", Project).translations)\n",
    "print(get_entity(\"VITO\", Stakeholder))"
   ]
  },
  {
   "cell_type": "code",
   "execution_count": null,
   "metadata": {},
   "outputs": [],
   "source": [
    "vito = get_entity(\"VITO\", Stakeholder)\n",
    "yaml_dumper.dump(vito, Path(r'.\\vito.yaml'))\n",
    "_3XG = get_entity(\"3XG\", Study)\n",
    "yaml_dumper.dump(_3XG, Path(r'.\\_3XG.yaml'))"
   ]
  },
  {
   "cell_type": "code",
   "execution_count": null,
   "metadata": {},
   "outputs": [],
   "source": []
  },
  {
   "cell_type": "code",
   "execution_count": null,
   "metadata": {},
   "outputs": [],
   "source": []
  }
 ],
 "metadata": {
  "kernelspec": {
   "display_name": "Python 3",
   "language": "python",
   "name": "python3"
  },
  "language_info": {
   "codemirror_mode": {
    "name": "ipython",
    "version": 3
   },
   "file_extension": ".py",
   "mimetype": "text/x-python",
   "name": "python",
   "nbconvert_exporter": "python",
   "pygments_lexer": "ipython3",
   "version": "3.11.0"
  }
 },
 "nbformat": 4,
 "nbformat_minor": 2
}
